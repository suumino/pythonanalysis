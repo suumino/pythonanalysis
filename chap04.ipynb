{
  "nbformat": 4,
  "nbformat_minor": 0,
  "metadata": {
    "colab": {
      "name": "chap04.ipynb",
      "provenance": [],
      "include_colab_link": true
    },
    "kernelspec": {
      "name": "python3",
      "display_name": "Python 3"
    },
    "language_info": {
      "name": "python"
    }
  },
  "cells": [
    {
      "cell_type": "markdown",
      "metadata": {
        "id": "view-in-github",
        "colab_type": "text"
      },
      "source": [
        "<a href=\"https://colab.research.google.com/github/suumino/pythonanalysis/blob/main/chap04.ipynb\" target=\"_parent\"><img src=\"https://colab.research.google.com/assets/colab-badge.svg\" alt=\"Open In Colab\"/></a>"
      ]
    },
    {
      "cell_type": "code",
      "metadata": {
        "colab": {
          "base_uri": "https://localhost:8080/"
        },
        "id": "e84fdk_cU9VK",
        "outputId": "0e0790a0-6db0-4dcb-e5f6-30faddd50075"
      },
      "source": [
        "import pandas as pd\n",
        "\n",
        "uselog = pd.read_csv('use_log.csv')\n",
        "uselog.isnull().sum()\n",
        "customer = pd.read_csv('customer_join.csv')\n",
        "customer.isnull().sum()"
      ],
      "execution_count": 1,
      "outputs": [
        {
          "output_type": "execute_result",
          "data": {
            "text/plain": [
              "customer_id             0\n",
              "name                    0\n",
              "class                   0\n",
              "gender                  0\n",
              "start_date              0\n",
              "end_date             2842\n",
              "campaign_id             0\n",
              "is_deleted              0\n",
              "class_name              0\n",
              "price                   0\n",
              "campaign_name           0\n",
              "mean                    0\n",
              "median                  0\n",
              "max                     0\n",
              "min                     0\n",
              "routine_flg             0\n",
              "calc_date               0\n",
              "membership_period       0\n",
              "dtype: int64"
            ]
          },
          "metadata": {
            "tags": []
          },
          "execution_count": 1
        }
      ]
    },
    {
      "cell_type": "code",
      "metadata": {
        "colab": {
          "base_uri": "https://localhost:8080/",
          "height": 204
        },
        "id": "XTsrE3JNVYib",
        "outputId": "ac2454ea-f5ba-4f9d-ee73-7b1126a1af85"
      },
      "source": [
        "customer_clustering = customer[['mean', 'median', 'max', 'min', 'membership_period']]\n",
        "customer_clustering.head()"
      ],
      "execution_count": 2,
      "outputs": [
        {
          "output_type": "execute_result",
          "data": {
            "text/html": [
              "<div>\n",
              "<style scoped>\n",
              "    .dataframe tbody tr th:only-of-type {\n",
              "        vertical-align: middle;\n",
              "    }\n",
              "\n",
              "    .dataframe tbody tr th {\n",
              "        vertical-align: top;\n",
              "    }\n",
              "\n",
              "    .dataframe thead th {\n",
              "        text-align: right;\n",
              "    }\n",
              "</style>\n",
              "<table border=\"1\" class=\"dataframe\">\n",
              "  <thead>\n",
              "    <tr style=\"text-align: right;\">\n",
              "      <th></th>\n",
              "      <th>mean</th>\n",
              "      <th>median</th>\n",
              "      <th>max</th>\n",
              "      <th>min</th>\n",
              "      <th>membership_period</th>\n",
              "    </tr>\n",
              "  </thead>\n",
              "  <tbody>\n",
              "    <tr>\n",
              "      <th>0</th>\n",
              "      <td>4.833333</td>\n",
              "      <td>5.0</td>\n",
              "      <td>8</td>\n",
              "      <td>2</td>\n",
              "      <td>47</td>\n",
              "    </tr>\n",
              "    <tr>\n",
              "      <th>1</th>\n",
              "      <td>5.083333</td>\n",
              "      <td>5.0</td>\n",
              "      <td>7</td>\n",
              "      <td>3</td>\n",
              "      <td>47</td>\n",
              "    </tr>\n",
              "    <tr>\n",
              "      <th>2</th>\n",
              "      <td>4.583333</td>\n",
              "      <td>5.0</td>\n",
              "      <td>6</td>\n",
              "      <td>3</td>\n",
              "      <td>47</td>\n",
              "    </tr>\n",
              "    <tr>\n",
              "      <th>3</th>\n",
              "      <td>4.833333</td>\n",
              "      <td>4.5</td>\n",
              "      <td>7</td>\n",
              "      <td>2</td>\n",
              "      <td>47</td>\n",
              "    </tr>\n",
              "    <tr>\n",
              "      <th>4</th>\n",
              "      <td>3.916667</td>\n",
              "      <td>4.0</td>\n",
              "      <td>6</td>\n",
              "      <td>1</td>\n",
              "      <td>47</td>\n",
              "    </tr>\n",
              "  </tbody>\n",
              "</table>\n",
              "</div>"
            ],
            "text/plain": [
              "       mean  median  max  min  membership_period\n",
              "0  4.833333     5.0    8    2                 47\n",
              "1  5.083333     5.0    7    3                 47\n",
              "2  4.583333     5.0    6    3                 47\n",
              "3  4.833333     4.5    7    2                 47\n",
              "4  3.916667     4.0    6    1                 47"
            ]
          },
          "metadata": {
            "tags": []
          },
          "execution_count": 2
        }
      ]
    },
    {
      "cell_type": "code",
      "metadata": {
        "colab": {
          "base_uri": "https://localhost:8080/"
        },
        "id": "O8dMUUQ8WSpq",
        "outputId": "a666aaef-2215-40bd-c299-f4911ad766a1"
      },
      "source": [
        "!pip install KMeans"
      ],
      "execution_count": 3,
      "outputs": [
        {
          "output_type": "stream",
          "text": [
            "Collecting KMeans\n",
            "  Downloading https://files.pythonhosted.org/packages/d1/7e/87d12a99d7ccfd2c85b19899012177e1718c2d6c0148fad421523160e84b/kmeans-1.0.2.tar.gz\n",
            "Building wheels for collected packages: KMeans\n",
            "  Building wheel for KMeans (setup.py) ... \u001b[?25l\u001b[?25hdone\n",
            "  Created wheel for KMeans: filename=kmeans-1.0.2-cp37-cp37m-linux_x86_64.whl size=11759 sha256=2dbd3899e4fa6fd4c55e72b613dba2d10af7f6b9a74c890b2a2e7a273187e316\n",
            "  Stored in directory: /root/.cache/pip/wheels/10/05/77/2735fd2f7a0b4d86cb7a83be2a56807cf706d5d27f742c6482\n",
            "Successfully built KMeans\n",
            "Installing collected packages: KMeans\n",
            "Successfully installed KMeans-1.0.2\n"
          ],
          "name": "stdout"
        }
      ]
    },
    {
      "cell_type": "code",
      "metadata": {
        "colab": {
          "base_uri": "https://localhost:8080/",
          "height": 350
        },
        "id": "v5DA_QkiVj6P",
        "outputId": "5fe4e9d4-aa7d-4883-eb02-27d430ab56ee"
      },
      "source": [
        "from sklearn.cluster import KMeans\n",
        "\n",
        "from sklearn.preprocessing import StandardScaler\n",
        "sc = StandardScaler()\n",
        "customer_clustering_sc = sc.fit_transform(customer_clustering)\n",
        "\n",
        "kmeans = KMeans(n_clusters = 4, random_state=0)\n",
        "clusters = kmeans.fit(customer_clustering_sc)\n",
        "customer_clustering['cluster'] = clusters.labels_\n",
        "print(customer_clustering['cluster'].unique())\n",
        "customer_clustering.head()"
      ],
      "execution_count": 4,
      "outputs": [
        {
          "output_type": "stream",
          "text": [
            "[3 1 0 2]\n"
          ],
          "name": "stdout"
        },
        {
          "output_type": "stream",
          "text": [
            "/usr/local/lib/python3.7/dist-packages/ipykernel_launcher.py:9: SettingWithCopyWarning: \n",
            "A value is trying to be set on a copy of a slice from a DataFrame.\n",
            "Try using .loc[row_indexer,col_indexer] = value instead\n",
            "\n",
            "See the caveats in the documentation: https://pandas.pydata.org/pandas-docs/stable/user_guide/indexing.html#returning-a-view-versus-a-copy\n",
            "  if __name__ == '__main__':\n"
          ],
          "name": "stderr"
        },
        {
          "output_type": "execute_result",
          "data": {
            "text/html": [
              "<div>\n",
              "<style scoped>\n",
              "    .dataframe tbody tr th:only-of-type {\n",
              "        vertical-align: middle;\n",
              "    }\n",
              "\n",
              "    .dataframe tbody tr th {\n",
              "        vertical-align: top;\n",
              "    }\n",
              "\n",
              "    .dataframe thead th {\n",
              "        text-align: right;\n",
              "    }\n",
              "</style>\n",
              "<table border=\"1\" class=\"dataframe\">\n",
              "  <thead>\n",
              "    <tr style=\"text-align: right;\">\n",
              "      <th></th>\n",
              "      <th>mean</th>\n",
              "      <th>median</th>\n",
              "      <th>max</th>\n",
              "      <th>min</th>\n",
              "      <th>membership_period</th>\n",
              "      <th>cluster</th>\n",
              "    </tr>\n",
              "  </thead>\n",
              "  <tbody>\n",
              "    <tr>\n",
              "      <th>0</th>\n",
              "      <td>4.833333</td>\n",
              "      <td>5.0</td>\n",
              "      <td>8</td>\n",
              "      <td>2</td>\n",
              "      <td>47</td>\n",
              "      <td>3</td>\n",
              "    </tr>\n",
              "    <tr>\n",
              "      <th>1</th>\n",
              "      <td>5.083333</td>\n",
              "      <td>5.0</td>\n",
              "      <td>7</td>\n",
              "      <td>3</td>\n",
              "      <td>47</td>\n",
              "      <td>3</td>\n",
              "    </tr>\n",
              "    <tr>\n",
              "      <th>2</th>\n",
              "      <td>4.583333</td>\n",
              "      <td>5.0</td>\n",
              "      <td>6</td>\n",
              "      <td>3</td>\n",
              "      <td>47</td>\n",
              "      <td>3</td>\n",
              "    </tr>\n",
              "    <tr>\n",
              "      <th>3</th>\n",
              "      <td>4.833333</td>\n",
              "      <td>4.5</td>\n",
              "      <td>7</td>\n",
              "      <td>2</td>\n",
              "      <td>47</td>\n",
              "      <td>3</td>\n",
              "    </tr>\n",
              "    <tr>\n",
              "      <th>4</th>\n",
              "      <td>3.916667</td>\n",
              "      <td>4.0</td>\n",
              "      <td>6</td>\n",
              "      <td>1</td>\n",
              "      <td>47</td>\n",
              "      <td>3</td>\n",
              "    </tr>\n",
              "  </tbody>\n",
              "</table>\n",
              "</div>"
            ],
            "text/plain": [
              "       mean  median  max  min  membership_period  cluster\n",
              "0  4.833333     5.0    8    2                 47        3\n",
              "1  5.083333     5.0    7    3                 47        3\n",
              "2  4.583333     5.0    6    3                 47        3\n",
              "3  4.833333     4.5    7    2                 47        3\n",
              "4  3.916667     4.0    6    1                 47        3"
            ]
          },
          "metadata": {
            "tags": []
          },
          "execution_count": 4
        }
      ]
    },
    {
      "cell_type": "code",
      "metadata": {
        "colab": {
          "base_uri": "https://localhost:8080/",
          "height": 204
        },
        "id": "mJ4xGV4DWCIU",
        "outputId": "eb6f9ad3-66c9-4ca2-8f11-398185e7cdd0"
      },
      "source": [
        "customer_clustering.columns = ['월평균값', '월중앙값', '월최댓값', '월최솟값', '회원기간', 'cluster']\n",
        "customer_clustering.groupby('cluster').count()"
      ],
      "execution_count": 5,
      "outputs": [
        {
          "output_type": "execute_result",
          "data": {
            "text/html": [
              "<div>\n",
              "<style scoped>\n",
              "    .dataframe tbody tr th:only-of-type {\n",
              "        vertical-align: middle;\n",
              "    }\n",
              "\n",
              "    .dataframe tbody tr th {\n",
              "        vertical-align: top;\n",
              "    }\n",
              "\n",
              "    .dataframe thead th {\n",
              "        text-align: right;\n",
              "    }\n",
              "</style>\n",
              "<table border=\"1\" class=\"dataframe\">\n",
              "  <thead>\n",
              "    <tr style=\"text-align: right;\">\n",
              "      <th></th>\n",
              "      <th>월평균값</th>\n",
              "      <th>월중앙값</th>\n",
              "      <th>월최댓값</th>\n",
              "      <th>월최솟값</th>\n",
              "      <th>회원기간</th>\n",
              "    </tr>\n",
              "    <tr>\n",
              "      <th>cluster</th>\n",
              "      <th></th>\n",
              "      <th></th>\n",
              "      <th></th>\n",
              "      <th></th>\n",
              "      <th></th>\n",
              "    </tr>\n",
              "  </thead>\n",
              "  <tbody>\n",
              "    <tr>\n",
              "      <th>0</th>\n",
              "      <td>1334</td>\n",
              "      <td>1334</td>\n",
              "      <td>1334</td>\n",
              "      <td>1334</td>\n",
              "      <td>1334</td>\n",
              "    </tr>\n",
              "    <tr>\n",
              "      <th>1</th>\n",
              "      <td>763</td>\n",
              "      <td>763</td>\n",
              "      <td>763</td>\n",
              "      <td>763</td>\n",
              "      <td>763</td>\n",
              "    </tr>\n",
              "    <tr>\n",
              "      <th>2</th>\n",
              "      <td>846</td>\n",
              "      <td>846</td>\n",
              "      <td>846</td>\n",
              "      <td>846</td>\n",
              "      <td>846</td>\n",
              "    </tr>\n",
              "    <tr>\n",
              "      <th>3</th>\n",
              "      <td>1249</td>\n",
              "      <td>1249</td>\n",
              "      <td>1249</td>\n",
              "      <td>1249</td>\n",
              "      <td>1249</td>\n",
              "    </tr>\n",
              "  </tbody>\n",
              "</table>\n",
              "</div>"
            ],
            "text/plain": [
              "         월평균값  월중앙값  월최댓값  월최솟값  회원기간\n",
              "cluster                              \n",
              "0        1334  1334  1334  1334  1334\n",
              "1         763   763   763   763   763\n",
              "2         846   846   846   846   846\n",
              "3        1249  1249  1249  1249  1249"
            ]
          },
          "metadata": {
            "tags": []
          },
          "execution_count": 5
        }
      ]
    },
    {
      "cell_type": "code",
      "metadata": {
        "id": "YDPigdYxXWf9",
        "colab": {
          "base_uri": "https://localhost:8080/",
          "height": 204
        },
        "outputId": "66ccfe14-f47b-434f-b804-6ed1e159b569"
      },
      "source": [
        "customer_clustering.groupby('cluster').mean()"
      ],
      "execution_count": 6,
      "outputs": [
        {
          "output_type": "execute_result",
          "data": {
            "text/html": [
              "<div>\n",
              "<style scoped>\n",
              "    .dataframe tbody tr th:only-of-type {\n",
              "        vertical-align: middle;\n",
              "    }\n",
              "\n",
              "    .dataframe tbody tr th {\n",
              "        vertical-align: top;\n",
              "    }\n",
              "\n",
              "    .dataframe thead th {\n",
              "        text-align: right;\n",
              "    }\n",
              "</style>\n",
              "<table border=\"1\" class=\"dataframe\">\n",
              "  <thead>\n",
              "    <tr style=\"text-align: right;\">\n",
              "      <th></th>\n",
              "      <th>월평균값</th>\n",
              "      <th>월중앙값</th>\n",
              "      <th>월최댓값</th>\n",
              "      <th>월최솟값</th>\n",
              "      <th>회원기간</th>\n",
              "    </tr>\n",
              "    <tr>\n",
              "      <th>cluster</th>\n",
              "      <th></th>\n",
              "      <th></th>\n",
              "      <th></th>\n",
              "      <th></th>\n",
              "      <th></th>\n",
              "    </tr>\n",
              "  </thead>\n",
              "  <tbody>\n",
              "    <tr>\n",
              "      <th>0</th>\n",
              "      <td>5.524239</td>\n",
              "      <td>5.375187</td>\n",
              "      <td>8.745877</td>\n",
              "      <td>2.687406</td>\n",
              "      <td>14.843328</td>\n",
              "    </tr>\n",
              "    <tr>\n",
              "      <th>1</th>\n",
              "      <td>3.054713</td>\n",
              "      <td>2.888598</td>\n",
              "      <td>4.756225</td>\n",
              "      <td>1.653997</td>\n",
              "      <td>9.263434</td>\n",
              "    </tr>\n",
              "    <tr>\n",
              "      <th>2</th>\n",
              "      <td>8.054608</td>\n",
              "      <td>8.039598</td>\n",
              "      <td>10.009456</td>\n",
              "      <td>6.160757</td>\n",
              "      <td>7.072104</td>\n",
              "    </tr>\n",
              "    <tr>\n",
              "      <th>3</th>\n",
              "      <td>4.677494</td>\n",
              "      <td>4.671337</td>\n",
              "      <td>7.232986</td>\n",
              "      <td>2.153723</td>\n",
              "      <td>36.915933</td>\n",
              "    </tr>\n",
              "  </tbody>\n",
              "</table>\n",
              "</div>"
            ],
            "text/plain": [
              "             월평균값      월중앙값       월최댓값      월최솟값       회원기간\n",
              "cluster                                                    \n",
              "0        5.524239  5.375187   8.745877  2.687406  14.843328\n",
              "1        3.054713  2.888598   4.756225  1.653997   9.263434\n",
              "2        8.054608  8.039598  10.009456  6.160757   7.072104\n",
              "3        4.677494  4.671337   7.232986  2.153723  36.915933"
            ]
          },
          "metadata": {
            "tags": []
          },
          "execution_count": 6
        }
      ]
    },
    {
      "cell_type": "code",
      "metadata": {
        "id": "Jtk1mv4-ZtKm"
      },
      "source": [
        "from sklearn.decomposition import PCA\n",
        "X = customer_clustering_sc\n",
        "pca = PCA(n_components = 2)\n",
        "pca.fit(X)\n",
        "x_pca = pca.transform(X)\n",
        "pca_df = pd.DataFrame(x_pca)\n",
        "pca_df['cluster'] = customer_clustering['cluster']"
      ],
      "execution_count": 7,
      "outputs": []
    },
    {
      "cell_type": "code",
      "metadata": {
        "colab": {
          "base_uri": "https://localhost:8080/",
          "height": 265
        },
        "id": "AhxfPOhZhQwB",
        "outputId": "6f9e1af0-a3b4-4db2-c98f-7de0b133df34"
      },
      "source": [
        "import matplotlib.pyplot as plt\n",
        "%matplotlib inline\n",
        "for i in customer_clustering['cluster'].unique():\n",
        "  tmp = pca_df.loc[pca_df['cluster']==i]\n",
        "  plt.scatter(tmp[0], tmp[1])"
      ],
      "execution_count": 8,
      "outputs": [
        {
          "output_type": "display_data",
          "data": {
            "image/png": "[encoded data removed]",
            "text/plain": [
              "<Figure size 432x288 with 1 Axes>"
            ]
          },
          "metadata": {
            "tags": [],
            "needs_background": "light"
          }
        }
      ]
    },
    {
      "cell_type": "code",
      "metadata": {
        "colab": {
          "base_uri": "https://localhost:8080/",
          "height": 266
        },
        "id": "TGIliRBihfWZ",
        "outputId": "e972950f-d52a-4699-e59c-c851098b44cc"
      },
      "source": [
        "customer_clustering = pd.concat([customer_clustering, customer], axis=1)\n",
        "customer_clustering.groupby(['cluster', 'is_deleted'], as_index=False).count()[['cluster', 'is_deleted', 'customer_id']]"
      ],
      "execution_count": 9,
      "outputs": [
        {
          "output_type": "execute_result",
          "data": {
            "text/html": [
              "<div>\n",
              "<style scoped>\n",
              "    .dataframe tbody tr th:only-of-type {\n",
              "        vertical-align: middle;\n",
              "    }\n",
              "\n",
              "    .dataframe tbody tr th {\n",
              "        vertical-align: top;\n",
              "    }\n",
              "\n",
              "    .dataframe thead th {\n",
              "        text-align: right;\n",
              "    }\n",
              "</style>\n",
              "<table border=\"1\" class=\"dataframe\">\n",
              "  <thead>\n",
              "    <tr style=\"text-align: right;\">\n",
              "      <th></th>\n",
              "      <th>cluster</th>\n",
              "      <th>is_deleted</th>\n",
              "      <th>customer_id</th>\n",
              "    </tr>\n",
              "  </thead>\n",
              "  <tbody>\n",
              "    <tr>\n",
              "      <th>0</th>\n",
              "      <td>0</td>\n",
              "      <td>0</td>\n",
              "      <td>785</td>\n",
              "    </tr>\n",
              "    <tr>\n",
              "      <th>1</th>\n",
              "      <td>0</td>\n",
              "      <td>1</td>\n",
              "      <td>549</td>\n",
              "    </tr>\n",
              "    <tr>\n",
              "      <th>2</th>\n",
              "      <td>1</td>\n",
              "      <td>1</td>\n",
              "      <td>763</td>\n",
              "    </tr>\n",
              "    <tr>\n",
              "      <th>3</th>\n",
              "      <td>2</td>\n",
              "      <td>0</td>\n",
              "      <td>827</td>\n",
              "    </tr>\n",
              "    <tr>\n",
              "      <th>4</th>\n",
              "      <td>2</td>\n",
              "      <td>1</td>\n",
              "      <td>19</td>\n",
              "    </tr>\n",
              "    <tr>\n",
              "      <th>5</th>\n",
              "      <td>3</td>\n",
              "      <td>0</td>\n",
              "      <td>1230</td>\n",
              "    </tr>\n",
              "    <tr>\n",
              "      <th>6</th>\n",
              "      <td>3</td>\n",
              "      <td>1</td>\n",
              "      <td>19</td>\n",
              "    </tr>\n",
              "  </tbody>\n",
              "</table>\n",
              "</div>"
            ],
            "text/plain": [
              "   cluster  is_deleted  customer_id\n",
              "0        0           0          785\n",
              "1        0           1          549\n",
              "2        1           1          763\n",
              "3        2           0          827\n",
              "4        2           1           19\n",
              "5        3           0         1230\n",
              "6        3           1           19"
            ]
          },
          "metadata": {
            "tags": []
          },
          "execution_count": 9
        }
      ]
    },
    {
      "cell_type": "code",
      "metadata": {
        "colab": {
          "base_uri": "https://localhost:8080/",
          "height": 297
        },
        "id": "IPhoD_6Mh2oV",
        "outputId": "ab05bf03-10f0-483c-da28-7569e9e49c00"
      },
      "source": [
        "customer_clustering.groupby(['cluster', 'routine_flg'], as_index=False).count()[['cluster', 'routine_flg', 'customer_id']]"
      ],
      "execution_count": 10,
      "outputs": [
        {
          "output_type": "execute_result",
          "data": {
            "text/html": [
              "<div>\n",
              "<style scoped>\n",
              "    .dataframe tbody tr th:only-of-type {\n",
              "        vertical-align: middle;\n",
              "    }\n",
              "\n",
              "    .dataframe tbody tr th {\n",
              "        vertical-align: top;\n",
              "    }\n",
              "\n",
              "    .dataframe thead th {\n",
              "        text-align: right;\n",
              "    }\n",
              "</style>\n",
              "<table border=\"1\" class=\"dataframe\">\n",
              "  <thead>\n",
              "    <tr style=\"text-align: right;\">\n",
              "      <th></th>\n",
              "      <th>cluster</th>\n",
              "      <th>routine_flg</th>\n",
              "      <th>customer_id</th>\n",
              "    </tr>\n",
              "  </thead>\n",
              "  <tbody>\n",
              "    <tr>\n",
              "      <th>0</th>\n",
              "      <td>0</td>\n",
              "      <td>0</td>\n",
              "      <td>228</td>\n",
              "    </tr>\n",
              "    <tr>\n",
              "      <th>1</th>\n",
              "      <td>0</td>\n",
              "      <td>1</td>\n",
              "      <td>1106</td>\n",
              "    </tr>\n",
              "    <tr>\n",
              "      <th>2</th>\n",
              "      <td>1</td>\n",
              "      <td>0</td>\n",
              "      <td>497</td>\n",
              "    </tr>\n",
              "    <tr>\n",
              "      <th>3</th>\n",
              "      <td>1</td>\n",
              "      <td>1</td>\n",
              "      <td>266</td>\n",
              "    </tr>\n",
              "    <tr>\n",
              "      <th>4</th>\n",
              "      <td>2</td>\n",
              "      <td>0</td>\n",
              "      <td>52</td>\n",
              "    </tr>\n",
              "    <tr>\n",
              "      <th>5</th>\n",
              "      <td>2</td>\n",
              "      <td>1</td>\n",
              "      <td>794</td>\n",
              "    </tr>\n",
              "    <tr>\n",
              "      <th>6</th>\n",
              "      <td>3</td>\n",
              "      <td>0</td>\n",
              "      <td>2</td>\n",
              "    </tr>\n",
              "    <tr>\n",
              "      <th>7</th>\n",
              "      <td>3</td>\n",
              "      <td>1</td>\n",
              "      <td>1247</td>\n",
              "    </tr>\n",
              "  </tbody>\n",
              "</table>\n",
              "</div>"
            ],
            "text/plain": [
              "   cluster  routine_flg  customer_id\n",
              "0        0            0          228\n",
              "1        0            1         1106\n",
              "2        1            0          497\n",
              "3        1            1          266\n",
              "4        2            0           52\n",
              "5        2            1          794\n",
              "6        3            0            2\n",
              "7        3            1         1247"
            ]
          },
          "metadata": {
            "tags": []
          },
          "execution_count": 10
        }
      ]
    },
    {
      "cell_type": "code",
      "metadata": {
        "colab": {
          "base_uri": "https://localhost:8080/",
          "height": 204
        },
        "id": "ZoQX4b_tiBXd",
        "outputId": "5d5c0c9d-7767-4142-d1f4-8d0bf345c1fc"
      },
      "source": [
        "uselog['usedate'] = pd.to_datetime(uselog['usedate'])\n",
        "uselog['연월'] = uselog['usedate'].dt.strftime('%Y%m')\n",
        "uselog_months = uselog.groupby(['연월', 'customer_id'], as_index=False).count()\n",
        "uselog_months.rename(columns = {'log_id':'count'}, inplace=True)\n",
        "del uselog_months['usedate']\n",
        "uselog_months.head()"
      ],
      "execution_count": 11,
      "outputs": [
        {
          "output_type": "execute_result",
          "data": {
            "text/html": [
              "<div>\n",
              "<style scoped>\n",
              "    .dataframe tbody tr th:only-of-type {\n",
              "        vertical-align: middle;\n",
              "    }\n",
              "\n",
              "    .dataframe tbody tr th {\n",
              "        vertical-align: top;\n",
              "    }\n",
              "\n",
              "    .dataframe thead th {\n",
              "        text-align: right;\n",
              "    }\n",
              "</style>\n",
              "<table border=\"1\" class=\"dataframe\">\n",
              "  <thead>\n",
              "    <tr style=\"text-align: right;\">\n",
              "      <th></th>\n",
              "      <th>연월</th>\n",
              "      <th>customer_id</th>\n",
              "      <th>count</th>\n",
              "    </tr>\n",
              "  </thead>\n",
              "  <tbody>\n",
              "    <tr>\n",
              "      <th>0</th>\n",
              "      <td>201804</td>\n",
              "      <td>AS002855</td>\n",
              "      <td>4</td>\n",
              "    </tr>\n",
              "    <tr>\n",
              "      <th>1</th>\n",
              "      <td>201804</td>\n",
              "      <td>AS009013</td>\n",
              "      <td>2</td>\n",
              "    </tr>\n",
              "    <tr>\n",
              "      <th>2</th>\n",
              "      <td>201804</td>\n",
              "      <td>AS009373</td>\n",
              "      <td>3</td>\n",
              "    </tr>\n",
              "    <tr>\n",
              "      <th>3</th>\n",
              "      <td>201804</td>\n",
              "      <td>AS015315</td>\n",
              "      <td>6</td>\n",
              "    </tr>\n",
              "    <tr>\n",
              "      <th>4</th>\n",
              "      <td>201804</td>\n",
              "      <td>AS015739</td>\n",
              "      <td>7</td>\n",
              "    </tr>\n",
              "  </tbody>\n",
              "</table>\n",
              "</div>"
            ],
            "text/plain": [
              "       연월 customer_id  count\n",
              "0  201804    AS002855      4\n",
              "1  201804    AS009013      2\n",
              "2  201804    AS009373      3\n",
              "3  201804    AS015315      6\n",
              "4  201804    AS015739      7"
            ]
          },
          "metadata": {
            "tags": []
          },
          "execution_count": 11
        }
      ]
    },
    {
      "cell_type": "code",
      "metadata": {
        "colab": {
          "base_uri": "https://localhost:8080/",
          "height": 314
        },
        "id": "4V5jnPUmijAR",
        "outputId": "d5ae0c60-2b1c-43bf-d350-91f51a3f95f9"
      },
      "source": [
        "year_months = list(uselog_months['연월'].unique())\n",
        "predict_data = pd.DataFrame()\n",
        "for i in range(6, len(year_months)):\n",
        "  tmp = uselog_months.loc[uselog_months['연월']==year_months[i]]\n",
        "  tmp.rename(columns = {'count':'count_pred'}, inplace=True)\n",
        "  for j in range(1, 7):\n",
        "    tmp_before = uselog_months.loc[uselog_months['연월']==year_months[i-j]]\n",
        "    del tmp_before['연월']\n",
        "    tmp_before.rename(columns={'count':'count_{}'.format(j-1)}, inplace=True)\n",
        "    tmp = pd.merge(tmp, tmp_before, on='customer_id', how='left')\n",
        "  predict_data = pd.concat([predict_data, tmp], ignore_index=True)\n",
        "predict_data.head()"
      ],
      "execution_count": 12,
      "outputs": [
        {
          "output_type": "stream",
          "text": [
            "/usr/local/lib/python3.7/dist-packages/pandas/core/frame.py:4308: SettingWithCopyWarning: \n",
            "A value is trying to be set on a copy of a slice from a DataFrame\n",
            "\n",
            "See the caveats in the documentation: https://pandas.pydata.org/pandas-docs/stable/user_guide/indexing.html#returning-a-view-versus-a-copy\n",
            "  errors=errors,\n"
          ],
          "name": "stderr"
        },
        {
          "output_type": "execute_result",
          "data": {
            "text/html": [
              "<div>\n",
              "<style scoped>\n",
              "    .dataframe tbody tr th:only-of-type {\n",
              "        vertical-align: middle;\n",
              "    }\n",
              "\n",
              "    .dataframe tbody tr th {\n",
              "        vertical-align: top;\n",
              "    }\n",
              "\n",
              "    .dataframe thead th {\n",
              "        text-align: right;\n",
              "    }\n",
              "</style>\n",
              "<table border=\"1\" class=\"dataframe\">\n",
              "  <thead>\n",
              "    <tr style=\"text-align: right;\">\n",
              "      <th></th>\n",
              "      <th>연월</th>\n",
              "      <th>customer_id</th>\n",
              "      <th>count_pred</th>\n",
              "      <th>count_0</th>\n",
              "      <th>count_1</th>\n",
              "      <th>count_2</th>\n",
              "      <th>count_3</th>\n",
              "      <th>count_4</th>\n",
              "      <th>count_5</th>\n",
              "    </tr>\n",
              "  </thead>\n",
              "  <tbody>\n",
              "    <tr>\n",
              "      <th>0</th>\n",
              "      <td>201810</td>\n",
              "      <td>AS002855</td>\n",
              "      <td>3</td>\n",
              "      <td>7.0</td>\n",
              "      <td>3.0</td>\n",
              "      <td>5.0</td>\n",
              "      <td>5.0</td>\n",
              "      <td>5.0</td>\n",
              "      <td>4.0</td>\n",
              "    </tr>\n",
              "    <tr>\n",
              "      <th>1</th>\n",
              "      <td>201810</td>\n",
              "      <td>AS008805</td>\n",
              "      <td>2</td>\n",
              "      <td>2.0</td>\n",
              "      <td>5.0</td>\n",
              "      <td>7.0</td>\n",
              "      <td>8.0</td>\n",
              "      <td>NaN</td>\n",
              "      <td>NaN</td>\n",
              "    </tr>\n",
              "    <tr>\n",
              "      <th>2</th>\n",
              "      <td>201810</td>\n",
              "      <td>AS009373</td>\n",
              "      <td>5</td>\n",
              "      <td>6.0</td>\n",
              "      <td>6.0</td>\n",
              "      <td>7.0</td>\n",
              "      <td>4.0</td>\n",
              "      <td>4.0</td>\n",
              "      <td>3.0</td>\n",
              "    </tr>\n",
              "    <tr>\n",
              "      <th>3</th>\n",
              "      <td>201810</td>\n",
              "      <td>AS015233</td>\n",
              "      <td>7</td>\n",
              "      <td>9.0</td>\n",
              "      <td>11.0</td>\n",
              "      <td>5.0</td>\n",
              "      <td>7.0</td>\n",
              "      <td>7.0</td>\n",
              "      <td>NaN</td>\n",
              "    </tr>\n",
              "    <tr>\n",
              "      <th>4</th>\n",
              "      <td>201810</td>\n",
              "      <td>AS015315</td>\n",
              "      <td>4</td>\n",
              "      <td>7.0</td>\n",
              "      <td>3.0</td>\n",
              "      <td>6.0</td>\n",
              "      <td>3.0</td>\n",
              "      <td>3.0</td>\n",
              "      <td>6.0</td>\n",
              "    </tr>\n",
              "  </tbody>\n",
              "</table>\n",
              "</div>"
            ],
            "text/plain": [
              "       연월 customer_id  count_pred  count_0  ...  count_2  count_3  count_4  count_5\n",
              "0  201810    AS002855           3      7.0  ...      5.0      5.0      5.0      4.0\n",
              "1  201810    AS008805           2      2.0  ...      7.0      8.0      NaN      NaN\n",
              "2  201810    AS009373           5      6.0  ...      7.0      4.0      4.0      3.0\n",
              "3  201810    AS015233           7      9.0  ...      5.0      7.0      7.0      NaN\n",
              "4  201810    AS015315           4      7.0  ...      6.0      3.0      3.0      6.0\n",
              "\n",
              "[5 rows x 9 columns]"
            ]
          },
          "metadata": {
            "tags": []
          },
          "execution_count": 12
        }
      ]
    },
    {
      "cell_type": "code",
      "metadata": {
        "id": "ffBxlmwqjiH3",
        "outputId": "e6640bfb-85c6-49af-ca7f-4e01c4446b53",
        "colab": {
          "base_uri": "https://localhost:8080/",
          "height": 204
        }
      },
      "source": [
        "predict_data = predict_data.dropna()\n",
        "predict_data = predict_data.reset_index(drop=True)\n",
        "predict_data.head()"
      ],
      "execution_count": 13,
      "outputs": [
        {
          "output_type": "execute_result",
          "data": {
            "text/html": [
              "<div>\n",
              "<style scoped>\n",
              "    .dataframe tbody tr th:only-of-type {\n",
              "        vertical-align: middle;\n",
              "    }\n",
              "\n",
              "    .dataframe tbody tr th {\n",
              "        vertical-align: top;\n",
              "    }\n",
              "\n",
              "    .dataframe thead th {\n",
              "        text-align: right;\n",
              "    }\n",
              "</style>\n",
              "<table border=\"1\" class=\"dataframe\">\n",
              "  <thead>\n",
              "    <tr style=\"text-align: right;\">\n",
              "      <th></th>\n",
              "      <th>연월</th>\n",
              "      <th>customer_id</th>\n",
              "      <th>count_pred</th>\n",
              "      <th>count_0</th>\n",
              "      <th>count_1</th>\n",
              "      <th>count_2</th>\n",
              "      <th>count_3</th>\n",
              "      <th>count_4</th>\n",
              "      <th>count_5</th>\n",
              "    </tr>\n",
              "  </thead>\n",
              "  <tbody>\n",
              "    <tr>\n",
              "      <th>0</th>\n",
              "      <td>201810</td>\n",
              "      <td>AS002855</td>\n",
              "      <td>3</td>\n",
              "      <td>7.0</td>\n",
              "      <td>3.0</td>\n",
              "      <td>5.0</td>\n",
              "      <td>5.0</td>\n",
              "      <td>5.0</td>\n",
              "      <td>4.0</td>\n",
              "    </tr>\n",
              "    <tr>\n",
              "      <th>1</th>\n",
              "      <td>201810</td>\n",
              "      <td>AS009373</td>\n",
              "      <td>5</td>\n",
              "      <td>6.0</td>\n",
              "      <td>6.0</td>\n",
              "      <td>7.0</td>\n",
              "      <td>4.0</td>\n",
              "      <td>4.0</td>\n",
              "      <td>3.0</td>\n",
              "    </tr>\n",
              "    <tr>\n",
              "      <th>2</th>\n",
              "      <td>201810</td>\n",
              "      <td>AS015315</td>\n",
              "      <td>4</td>\n",
              "      <td>7.0</td>\n",
              "      <td>3.0</td>\n",
              "      <td>6.0</td>\n",
              "      <td>3.0</td>\n",
              "      <td>3.0</td>\n",
              "      <td>6.0</td>\n",
              "    </tr>\n",
              "    <tr>\n",
              "      <th>3</th>\n",
              "      <td>201810</td>\n",
              "      <td>AS015739</td>\n",
              "      <td>5</td>\n",
              "      <td>6.0</td>\n",
              "      <td>5.0</td>\n",
              "      <td>8.0</td>\n",
              "      <td>6.0</td>\n",
              "      <td>5.0</td>\n",
              "      <td>7.0</td>\n",
              "    </tr>\n",
              "    <tr>\n",
              "      <th>4</th>\n",
              "      <td>201810</td>\n",
              "      <td>AS019860</td>\n",
              "      <td>7</td>\n",
              "      <td>5.0</td>\n",
              "      <td>7.0</td>\n",
              "      <td>4.0</td>\n",
              "      <td>6.0</td>\n",
              "      <td>8.0</td>\n",
              "      <td>6.0</td>\n",
              "    </tr>\n",
              "  </tbody>\n",
              "</table>\n",
              "</div>"
            ],
            "text/plain": [
              "       연월 customer_id  count_pred  count_0  ...  count_2  count_3  count_4  count_5\n",
              "0  201810    AS002855           3      7.0  ...      5.0      5.0      5.0      4.0\n",
              "1  201810    AS009373           5      6.0  ...      7.0      4.0      4.0      3.0\n",
              "2  201810    AS015315           4      7.0  ...      6.0      3.0      3.0      6.0\n",
              "3  201810    AS015739           5      6.0  ...      8.0      6.0      5.0      7.0\n",
              "4  201810    AS019860           7      5.0  ...      4.0      6.0      8.0      6.0\n",
              "\n",
              "[5 rows x 9 columns]"
            ]
          },
          "metadata": {
            "tags": []
          },
          "execution_count": 13
        }
      ]
    },
    {
      "cell_type": "code",
      "metadata": {
        "id": "5Ryjti8TXyQX",
        "outputId": "dec0874d-cbb1-42f5-8ad4-bd7400680c6a",
        "colab": {
          "base_uri": "https://localhost:8080/",
          "height": 204
        }
      },
      "source": [
        "predict_data = pd.merge(predict_data, customer[[\"customer_id\", \"start_date\"]], on = \"customer_id\", how=\"left\")\n",
        "predict_data.head()"
      ],
      "execution_count": 14,
      "outputs": [
        {
          "output_type": "execute_result",
          "data": {
            "text/html": [
              "<div>\n",
              "<style scoped>\n",
              "    .dataframe tbody tr th:only-of-type {\n",
              "        vertical-align: middle;\n",
              "    }\n",
              "\n",
              "    .dataframe tbody tr th {\n",
              "        vertical-align: top;\n",
              "    }\n",
              "\n",
              "    .dataframe thead th {\n",
              "        text-align: right;\n",
              "    }\n",
              "</style>\n",
              "<table border=\"1\" class=\"dataframe\">\n",
              "  <thead>\n",
              "    <tr style=\"text-align: right;\">\n",
              "      <th></th>\n",
              "      <th>연월</th>\n",
              "      <th>customer_id</th>\n",
              "      <th>count_pred</th>\n",
              "      <th>count_0</th>\n",
              "      <th>count_1</th>\n",
              "      <th>count_2</th>\n",
              "      <th>count_3</th>\n",
              "      <th>count_4</th>\n",
              "      <th>count_5</th>\n",
              "      <th>start_date</th>\n",
              "    </tr>\n",
              "  </thead>\n",
              "  <tbody>\n",
              "    <tr>\n",
              "      <th>0</th>\n",
              "      <td>201810</td>\n",
              "      <td>AS002855</td>\n",
              "      <td>3</td>\n",
              "      <td>7.0</td>\n",
              "      <td>3.0</td>\n",
              "      <td>5.0</td>\n",
              "      <td>5.0</td>\n",
              "      <td>5.0</td>\n",
              "      <td>4.0</td>\n",
              "      <td>2016-11-01</td>\n",
              "    </tr>\n",
              "    <tr>\n",
              "      <th>1</th>\n",
              "      <td>201810</td>\n",
              "      <td>AS009373</td>\n",
              "      <td>5</td>\n",
              "      <td>6.0</td>\n",
              "      <td>6.0</td>\n",
              "      <td>7.0</td>\n",
              "      <td>4.0</td>\n",
              "      <td>4.0</td>\n",
              "      <td>3.0</td>\n",
              "      <td>2015-11-01</td>\n",
              "    </tr>\n",
              "    <tr>\n",
              "      <th>2</th>\n",
              "      <td>201810</td>\n",
              "      <td>AS015315</td>\n",
              "      <td>4</td>\n",
              "      <td>7.0</td>\n",
              "      <td>3.0</td>\n",
              "      <td>6.0</td>\n",
              "      <td>3.0</td>\n",
              "      <td>3.0</td>\n",
              "      <td>6.0</td>\n",
              "      <td>2015-07-01</td>\n",
              "    </tr>\n",
              "    <tr>\n",
              "      <th>3</th>\n",
              "      <td>201810</td>\n",
              "      <td>AS015739</td>\n",
              "      <td>5</td>\n",
              "      <td>6.0</td>\n",
              "      <td>5.0</td>\n",
              "      <td>8.0</td>\n",
              "      <td>6.0</td>\n",
              "      <td>5.0</td>\n",
              "      <td>7.0</td>\n",
              "      <td>2017-06-01</td>\n",
              "    </tr>\n",
              "    <tr>\n",
              "      <th>4</th>\n",
              "      <td>201810</td>\n",
              "      <td>AS019860</td>\n",
              "      <td>7</td>\n",
              "      <td>5.0</td>\n",
              "      <td>7.0</td>\n",
              "      <td>4.0</td>\n",
              "      <td>6.0</td>\n",
              "      <td>8.0</td>\n",
              "      <td>6.0</td>\n",
              "      <td>2017-10-01</td>\n",
              "    </tr>\n",
              "  </tbody>\n",
              "</table>\n",
              "</div>"
            ],
            "text/plain": [
              "       연월 customer_id  count_pred  ...  count_4  count_5  start_date\n",
              "0  201810    AS002855           3  ...      5.0      4.0  2016-11-01\n",
              "1  201810    AS009373           5  ...      4.0      3.0  2015-11-01\n",
              "2  201810    AS015315           4  ...      3.0      6.0  2015-07-01\n",
              "3  201810    AS015739           5  ...      5.0      7.0  2017-06-01\n",
              "4  201810    AS019860           7  ...      8.0      6.0  2017-10-01\n",
              "\n",
              "[5 rows x 10 columns]"
            ]
          },
          "metadata": {
            "tags": []
          },
          "execution_count": 14
        }
      ]
    },
    {
      "cell_type": "code",
      "metadata": {
        "id": "iOUzlYDcYiSc"
      },
      "source": [
        ""
      ],
      "execution_count": null,
      "outputs": []
    }
  ]
}